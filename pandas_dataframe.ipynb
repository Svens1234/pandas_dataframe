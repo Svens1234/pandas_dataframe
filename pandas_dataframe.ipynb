{
 "cells": [
  {
   "cell_type": "code",
   "execution_count": 1,
   "id": "02295b1e",
   "metadata": {},
   "outputs": [],
   "source": [
    "import numpy as np\n",
    "import pandas as pd"
   ]
  },
  {
   "cell_type": "code",
   "execution_count": 2,
   "id": "b7ae4d6d",
   "metadata": {},
   "outputs": [],
   "source": [
    "my_df = pd.DataFrame(np.random.randn(4,5), [1,2,3,4], ['red', 'orange', 'yellow', 'green', 'blue'])"
   ]
  },
  {
   "cell_type": "code",
   "execution_count": 3,
   "id": "6b2da490",
   "metadata": {},
   "outputs": [
    {
     "data": {
      "text/html": [
       "<div>\n",
       "<style scoped>\n",
       "    .dataframe tbody tr th:only-of-type {\n",
       "        vertical-align: middle;\n",
       "    }\n",
       "\n",
       "    .dataframe tbody tr th {\n",
       "        vertical-align: top;\n",
       "    }\n",
       "\n",
       "    .dataframe thead th {\n",
       "        text-align: right;\n",
       "    }\n",
       "</style>\n",
       "<table border=\"1\" class=\"dataframe\">\n",
       "  <thead>\n",
       "    <tr style=\"text-align: right;\">\n",
       "      <th></th>\n",
       "      <th>red</th>\n",
       "      <th>orange</th>\n",
       "      <th>yellow</th>\n",
       "      <th>green</th>\n",
       "      <th>blue</th>\n",
       "    </tr>\n",
       "  </thead>\n",
       "  <tbody>\n",
       "    <tr>\n",
       "      <th>1</th>\n",
       "      <td>0.051090</td>\n",
       "      <td>0.636155</td>\n",
       "      <td>-0.736145</td>\n",
       "      <td>-0.839959</td>\n",
       "      <td>-1.297012</td>\n",
       "    </tr>\n",
       "    <tr>\n",
       "      <th>2</th>\n",
       "      <td>-1.250504</td>\n",
       "      <td>-0.073166</td>\n",
       "      <td>-0.011279</td>\n",
       "      <td>-1.089314</td>\n",
       "      <td>-0.115498</td>\n",
       "    </tr>\n",
       "    <tr>\n",
       "      <th>3</th>\n",
       "      <td>-0.008274</td>\n",
       "      <td>1.656825</td>\n",
       "      <td>-0.278375</td>\n",
       "      <td>0.652643</td>\n",
       "      <td>0.726481</td>\n",
       "    </tr>\n",
       "    <tr>\n",
       "      <th>4</th>\n",
       "      <td>-2.726784</td>\n",
       "      <td>-0.563387</td>\n",
       "      <td>-0.200577</td>\n",
       "      <td>-1.518488</td>\n",
       "      <td>1.083401</td>\n",
       "    </tr>\n",
       "  </tbody>\n",
       "</table>\n",
       "</div>"
      ],
      "text/plain": [
       "        red    orange    yellow     green      blue\n",
       "1  0.051090  0.636155 -0.736145 -0.839959 -1.297012\n",
       "2 -1.250504 -0.073166 -0.011279 -1.089314 -0.115498\n",
       "3 -0.008274  1.656825 -0.278375  0.652643  0.726481\n",
       "4 -2.726784 -0.563387 -0.200577 -1.518488  1.083401"
      ]
     },
     "execution_count": 3,
     "metadata": {},
     "output_type": "execute_result"
    }
   ],
   "source": [
    "my_df"
   ]
  },
  {
   "cell_type": "code",
   "execution_count": 4,
   "id": "2123f28c",
   "metadata": {},
   "outputs": [
    {
     "data": {
      "text/plain": [
       "1    0.636155\n",
       "2   -0.073166\n",
       "3    1.656825\n",
       "4   -0.563387\n",
       "Name: orange, dtype: float64"
      ]
     },
     "execution_count": 4,
     "metadata": {},
     "output_type": "execute_result"
    }
   ],
   "source": [
    "my_df['orange']"
   ]
  },
  {
   "cell_type": "code",
   "execution_count": 5,
   "id": "a6f571d1",
   "metadata": {},
   "outputs": [
    {
     "data": {
      "text/plain": [
       "1    0.051090\n",
       "2   -1.250504\n",
       "3   -0.008274\n",
       "4   -2.726784\n",
       "Name: red, dtype: float64"
      ]
     },
     "execution_count": 5,
     "metadata": {},
     "output_type": "execute_result"
    }
   ],
   "source": [
    "my_df['red']"
   ]
  },
  {
   "cell_type": "code",
   "execution_count": 6,
   "id": "3380ac5e",
   "metadata": {},
   "outputs": [
    {
     "data": {
      "text/plain": [
       "pandas.core.series.Series"
      ]
     },
     "execution_count": 6,
     "metadata": {},
     "output_type": "execute_result"
    }
   ],
   "source": [
    "type(my_df['red'])"
   ]
  },
  {
   "cell_type": "code",
   "execution_count": 7,
   "id": "c090f191",
   "metadata": {},
   "outputs": [
    {
     "data": {
      "text/plain": [
       "pandas.core.frame.DataFrame"
      ]
     },
     "execution_count": 7,
     "metadata": {},
     "output_type": "execute_result"
    }
   ],
   "source": [
    "type(my_df)"
   ]
  },
  {
   "cell_type": "code",
   "execution_count": 8,
   "id": "5e9ebc15",
   "metadata": {},
   "outputs": [
    {
     "data": {
      "text/html": [
       "<div>\n",
       "<style scoped>\n",
       "    .dataframe tbody tr th:only-of-type {\n",
       "        vertical-align: middle;\n",
       "    }\n",
       "\n",
       "    .dataframe tbody tr th {\n",
       "        vertical-align: top;\n",
       "    }\n",
       "\n",
       "    .dataframe thead th {\n",
       "        text-align: right;\n",
       "    }\n",
       "</style>\n",
       "<table border=\"1\" class=\"dataframe\">\n",
       "  <thead>\n",
       "    <tr style=\"text-align: right;\">\n",
       "      <th></th>\n",
       "      <th>yellow</th>\n",
       "      <th>blue</th>\n",
       "    </tr>\n",
       "  </thead>\n",
       "  <tbody>\n",
       "    <tr>\n",
       "      <th>1</th>\n",
       "      <td>-0.736145</td>\n",
       "      <td>-1.297012</td>\n",
       "    </tr>\n",
       "    <tr>\n",
       "      <th>2</th>\n",
       "      <td>-0.011279</td>\n",
       "      <td>-0.115498</td>\n",
       "    </tr>\n",
       "    <tr>\n",
       "      <th>3</th>\n",
       "      <td>-0.278375</td>\n",
       "      <td>0.726481</td>\n",
       "    </tr>\n",
       "    <tr>\n",
       "      <th>4</th>\n",
       "      <td>-0.200577</td>\n",
       "      <td>1.083401</td>\n",
       "    </tr>\n",
       "  </tbody>\n",
       "</table>\n",
       "</div>"
      ],
      "text/plain": [
       "     yellow      blue\n",
       "1 -0.736145 -1.297012\n",
       "2 -0.011279 -0.115498\n",
       "3 -0.278375  0.726481\n",
       "4 -0.200577  1.083401"
      ]
     },
     "execution_count": 8,
     "metadata": {},
     "output_type": "execute_result"
    }
   ],
   "source": [
    "my_df[['yellow', 'blue']]"
   ]
  },
  {
   "cell_type": "code",
   "execution_count": 9,
   "id": "d504fafa",
   "metadata": {},
   "outputs": [
    {
     "data": {
      "text/plain": [
       "pandas.core.frame.DataFrame"
      ]
     },
     "execution_count": 9,
     "metadata": {},
     "output_type": "execute_result"
    }
   ],
   "source": [
    "type(my_df[['yellow', 'blue']])"
   ]
  },
  {
   "cell_type": "code",
   "execution_count": 10,
   "id": "1d99c2b4",
   "metadata": {},
   "outputs": [],
   "source": [
    "my_df['indigo'] = my_df['blue']"
   ]
  },
  {
   "cell_type": "code",
   "execution_count": 11,
   "id": "3832bf50",
   "metadata": {},
   "outputs": [
    {
     "data": {
      "text/html": [
       "<div>\n",
       "<style scoped>\n",
       "    .dataframe tbody tr th:only-of-type {\n",
       "        vertical-align: middle;\n",
       "    }\n",
       "\n",
       "    .dataframe tbody tr th {\n",
       "        vertical-align: top;\n",
       "    }\n",
       "\n",
       "    .dataframe thead th {\n",
       "        text-align: right;\n",
       "    }\n",
       "</style>\n",
       "<table border=\"1\" class=\"dataframe\">\n",
       "  <thead>\n",
       "    <tr style=\"text-align: right;\">\n",
       "      <th></th>\n",
       "      <th>red</th>\n",
       "      <th>orange</th>\n",
       "      <th>yellow</th>\n",
       "      <th>green</th>\n",
       "      <th>blue</th>\n",
       "      <th>indigo</th>\n",
       "    </tr>\n",
       "  </thead>\n",
       "  <tbody>\n",
       "    <tr>\n",
       "      <th>1</th>\n",
       "      <td>0.051090</td>\n",
       "      <td>0.636155</td>\n",
       "      <td>-0.736145</td>\n",
       "      <td>-0.839959</td>\n",
       "      <td>-1.297012</td>\n",
       "      <td>-1.297012</td>\n",
       "    </tr>\n",
       "    <tr>\n",
       "      <th>2</th>\n",
       "      <td>-1.250504</td>\n",
       "      <td>-0.073166</td>\n",
       "      <td>-0.011279</td>\n",
       "      <td>-1.089314</td>\n",
       "      <td>-0.115498</td>\n",
       "      <td>-0.115498</td>\n",
       "    </tr>\n",
       "    <tr>\n",
       "      <th>3</th>\n",
       "      <td>-0.008274</td>\n",
       "      <td>1.656825</td>\n",
       "      <td>-0.278375</td>\n",
       "      <td>0.652643</td>\n",
       "      <td>0.726481</td>\n",
       "      <td>0.726481</td>\n",
       "    </tr>\n",
       "    <tr>\n",
       "      <th>4</th>\n",
       "      <td>-2.726784</td>\n",
       "      <td>-0.563387</td>\n",
       "      <td>-0.200577</td>\n",
       "      <td>-1.518488</td>\n",
       "      <td>1.083401</td>\n",
       "      <td>1.083401</td>\n",
       "    </tr>\n",
       "  </tbody>\n",
       "</table>\n",
       "</div>"
      ],
      "text/plain": [
       "        red    orange    yellow     green      blue    indigo\n",
       "1  0.051090  0.636155 -0.736145 -0.839959 -1.297012 -1.297012\n",
       "2 -1.250504 -0.073166 -0.011279 -1.089314 -0.115498 -0.115498\n",
       "3 -0.008274  1.656825 -0.278375  0.652643  0.726481  0.726481\n",
       "4 -2.726784 -0.563387 -0.200577 -1.518488  1.083401  1.083401"
      ]
     },
     "execution_count": 11,
     "metadata": {},
     "output_type": "execute_result"
    }
   ],
   "source": [
    "my_df"
   ]
  },
  {
   "cell_type": "code",
   "execution_count": 12,
   "id": "d8061499",
   "metadata": {},
   "outputs": [],
   "source": [
    "my_df['violet'] = my_df['blue'] + my_df['indigo']"
   ]
  },
  {
   "cell_type": "code",
   "execution_count": 13,
   "id": "e402f350",
   "metadata": {},
   "outputs": [
    {
     "data": {
      "text/html": [
       "<div>\n",
       "<style scoped>\n",
       "    .dataframe tbody tr th:only-of-type {\n",
       "        vertical-align: middle;\n",
       "    }\n",
       "\n",
       "    .dataframe tbody tr th {\n",
       "        vertical-align: top;\n",
       "    }\n",
       "\n",
       "    .dataframe thead th {\n",
       "        text-align: right;\n",
       "    }\n",
       "</style>\n",
       "<table border=\"1\" class=\"dataframe\">\n",
       "  <thead>\n",
       "    <tr style=\"text-align: right;\">\n",
       "      <th></th>\n",
       "      <th>red</th>\n",
       "      <th>orange</th>\n",
       "      <th>yellow</th>\n",
       "      <th>green</th>\n",
       "      <th>blue</th>\n",
       "      <th>indigo</th>\n",
       "      <th>violet</th>\n",
       "    </tr>\n",
       "  </thead>\n",
       "  <tbody>\n",
       "    <tr>\n",
       "      <th>1</th>\n",
       "      <td>0.051090</td>\n",
       "      <td>0.636155</td>\n",
       "      <td>-0.736145</td>\n",
       "      <td>-0.839959</td>\n",
       "      <td>-1.297012</td>\n",
       "      <td>-1.297012</td>\n",
       "      <td>-2.594023</td>\n",
       "    </tr>\n",
       "    <tr>\n",
       "      <th>2</th>\n",
       "      <td>-1.250504</td>\n",
       "      <td>-0.073166</td>\n",
       "      <td>-0.011279</td>\n",
       "      <td>-1.089314</td>\n",
       "      <td>-0.115498</td>\n",
       "      <td>-0.115498</td>\n",
       "      <td>-0.230996</td>\n",
       "    </tr>\n",
       "    <tr>\n",
       "      <th>3</th>\n",
       "      <td>-0.008274</td>\n",
       "      <td>1.656825</td>\n",
       "      <td>-0.278375</td>\n",
       "      <td>0.652643</td>\n",
       "      <td>0.726481</td>\n",
       "      <td>0.726481</td>\n",
       "      <td>1.452962</td>\n",
       "    </tr>\n",
       "    <tr>\n",
       "      <th>4</th>\n",
       "      <td>-2.726784</td>\n",
       "      <td>-0.563387</td>\n",
       "      <td>-0.200577</td>\n",
       "      <td>-1.518488</td>\n",
       "      <td>1.083401</td>\n",
       "      <td>1.083401</td>\n",
       "      <td>2.166802</td>\n",
       "    </tr>\n",
       "  </tbody>\n",
       "</table>\n",
       "</div>"
      ],
      "text/plain": [
       "        red    orange    yellow     green      blue    indigo    violet\n",
       "1  0.051090  0.636155 -0.736145 -0.839959 -1.297012 -1.297012 -2.594023\n",
       "2 -1.250504 -0.073166 -0.011279 -1.089314 -0.115498 -0.115498 -0.230996\n",
       "3 -0.008274  1.656825 -0.278375  0.652643  0.726481  0.726481  1.452962\n",
       "4 -2.726784 -0.563387 -0.200577 -1.518488  1.083401  1.083401  2.166802"
      ]
     },
     "execution_count": 13,
     "metadata": {},
     "output_type": "execute_result"
    }
   ],
   "source": [
    "my_df"
   ]
  },
  {
   "cell_type": "code",
   "execution_count": 14,
   "id": "96445e2c",
   "metadata": {},
   "outputs": [
    {
     "data": {
      "text/plain": [
       "red      -1.250504\n",
       "orange   -0.073166\n",
       "yellow   -0.011279\n",
       "green    -1.089314\n",
       "blue     -0.115498\n",
       "indigo   -0.115498\n",
       "violet   -0.230996\n",
       "Name: 2, dtype: float64"
      ]
     },
     "execution_count": 14,
     "metadata": {},
     "output_type": "execute_result"
    }
   ],
   "source": [
    "my_df.loc[2]"
   ]
  },
  {
   "cell_type": "code",
   "execution_count": 15,
   "id": "8acf52da",
   "metadata": {},
   "outputs": [
    {
     "data": {
      "text/plain": [
       "red      -1.250504\n",
       "orange   -0.073166\n",
       "yellow   -0.011279\n",
       "green    -1.089314\n",
       "blue     -0.115498\n",
       "indigo   -0.115498\n",
       "violet   -0.230996\n",
       "Name: 2, dtype: float64"
      ]
     },
     "execution_count": 15,
     "metadata": {},
     "output_type": "execute_result"
    }
   ],
   "source": [
    "my_df.iloc[1]"
   ]
  },
  {
   "cell_type": "code",
   "execution_count": 16,
   "id": "1f58d9f5",
   "metadata": {},
   "outputs": [],
   "source": [
    "my_df.iloc[2] = my_df.iloc[1]"
   ]
  },
  {
   "cell_type": "code",
   "execution_count": 17,
   "id": "862b75fc",
   "metadata": {},
   "outputs": [
    {
     "data": {
      "text/plain": [
       "red      -1.250504\n",
       "orange   -0.073166\n",
       "yellow   -0.011279\n",
       "green    -1.089314\n",
       "blue     -0.115498\n",
       "indigo   -0.115498\n",
       "violet   -0.230996\n",
       "Name: 3, dtype: float64"
      ]
     },
     "execution_count": 17,
     "metadata": {},
     "output_type": "execute_result"
    }
   ],
   "source": [
    "my_df.iloc[2]"
   ]
  },
  {
   "cell_type": "code",
   "execution_count": 18,
   "id": "ca3c3d2e",
   "metadata": {},
   "outputs": [
    {
     "data": {
      "text/plain": [
       "-0.07316591936454624"
      ]
     },
     "execution_count": 18,
     "metadata": {},
     "output_type": "execute_result"
    }
   ],
   "source": [
    "my_df.loc[2, 'orange']"
   ]
  },
  {
   "cell_type": "code",
   "execution_count": 19,
   "id": "baf2a9d4",
   "metadata": {},
   "outputs": [
    {
     "data": {
      "text/html": [
       "<div>\n",
       "<style scoped>\n",
       "    .dataframe tbody tr th:only-of-type {\n",
       "        vertical-align: middle;\n",
       "    }\n",
       "\n",
       "    .dataframe tbody tr th {\n",
       "        vertical-align: top;\n",
       "    }\n",
       "\n",
       "    .dataframe thead th {\n",
       "        text-align: right;\n",
       "    }\n",
       "</style>\n",
       "<table border=\"1\" class=\"dataframe\">\n",
       "  <thead>\n",
       "    <tr style=\"text-align: right;\">\n",
       "      <th></th>\n",
       "      <th>blue</th>\n",
       "      <th>violet</th>\n",
       "    </tr>\n",
       "  </thead>\n",
       "  <tbody>\n",
       "    <tr>\n",
       "      <th>1</th>\n",
       "      <td>-1.297012</td>\n",
       "      <td>-2.594023</td>\n",
       "    </tr>\n",
       "    <tr>\n",
       "      <th>3</th>\n",
       "      <td>-0.115498</td>\n",
       "      <td>-0.230996</td>\n",
       "    </tr>\n",
       "  </tbody>\n",
       "</table>\n",
       "</div>"
      ],
      "text/plain": [
       "       blue    violet\n",
       "1 -1.297012 -2.594023\n",
       "3 -0.115498 -0.230996"
      ]
     },
     "execution_count": 19,
     "metadata": {},
     "output_type": "execute_result"
    }
   ],
   "source": [
    "my_df.loc[[1,3], ['blue', 'violet']]"
   ]
  },
  {
   "cell_type": "code",
   "execution_count": 20,
   "id": "047becad",
   "metadata": {},
   "outputs": [
    {
     "data": {
      "text/html": [
       "<div>\n",
       "<style scoped>\n",
       "    .dataframe tbody tr th:only-of-type {\n",
       "        vertical-align: middle;\n",
       "    }\n",
       "\n",
       "    .dataframe tbody tr th {\n",
       "        vertical-align: top;\n",
       "    }\n",
       "\n",
       "    .dataframe thead th {\n",
       "        text-align: right;\n",
       "    }\n",
       "</style>\n",
       "<table border=\"1\" class=\"dataframe\">\n",
       "  <thead>\n",
       "    <tr style=\"text-align: right;\">\n",
       "      <th></th>\n",
       "      <th>red</th>\n",
       "      <th>orange</th>\n",
       "      <th>yellow</th>\n",
       "      <th>green</th>\n",
       "      <th>blue</th>\n",
       "      <th>indigo</th>\n",
       "      <th>violet</th>\n",
       "    </tr>\n",
       "  </thead>\n",
       "  <tbody>\n",
       "    <tr>\n",
       "      <th>1</th>\n",
       "      <td>0.051090</td>\n",
       "      <td>0.636155</td>\n",
       "      <td>-0.736145</td>\n",
       "      <td>-0.839959</td>\n",
       "      <td>-1.297012</td>\n",
       "      <td>-1.297012</td>\n",
       "      <td>-2.594023</td>\n",
       "    </tr>\n",
       "    <tr>\n",
       "      <th>2</th>\n",
       "      <td>-1.250504</td>\n",
       "      <td>-0.073166</td>\n",
       "      <td>-0.011279</td>\n",
       "      <td>-1.089314</td>\n",
       "      <td>-0.115498</td>\n",
       "      <td>-0.115498</td>\n",
       "      <td>-0.230996</td>\n",
       "    </tr>\n",
       "    <tr>\n",
       "      <th>4</th>\n",
       "      <td>-2.726784</td>\n",
       "      <td>-0.563387</td>\n",
       "      <td>-0.200577</td>\n",
       "      <td>-1.518488</td>\n",
       "      <td>1.083401</td>\n",
       "      <td>1.083401</td>\n",
       "      <td>2.166802</td>\n",
       "    </tr>\n",
       "  </tbody>\n",
       "</table>\n",
       "</div>"
      ],
      "text/plain": [
       "        red    orange    yellow     green      blue    indigo    violet\n",
       "1  0.051090  0.636155 -0.736145 -0.839959 -1.297012 -1.297012 -2.594023\n",
       "2 -1.250504 -0.073166 -0.011279 -1.089314 -0.115498 -0.115498 -0.230996\n",
       "4 -2.726784 -0.563387 -0.200577 -1.518488  1.083401  1.083401  2.166802"
      ]
     },
     "execution_count": 20,
     "metadata": {},
     "output_type": "execute_result"
    }
   ],
   "source": [
    "my_df.drop(3)"
   ]
  },
  {
   "cell_type": "code",
   "execution_count": 21,
   "id": "76b6c803",
   "metadata": {},
   "outputs": [
    {
     "data": {
      "text/html": [
       "<div>\n",
       "<style scoped>\n",
       "    .dataframe tbody tr th:only-of-type {\n",
       "        vertical-align: middle;\n",
       "    }\n",
       "\n",
       "    .dataframe tbody tr th {\n",
       "        vertical-align: top;\n",
       "    }\n",
       "\n",
       "    .dataframe thead th {\n",
       "        text-align: right;\n",
       "    }\n",
       "</style>\n",
       "<table border=\"1\" class=\"dataframe\">\n",
       "  <thead>\n",
       "    <tr style=\"text-align: right;\">\n",
       "      <th></th>\n",
       "      <th>red</th>\n",
       "      <th>orange</th>\n",
       "      <th>yellow</th>\n",
       "      <th>green</th>\n",
       "      <th>blue</th>\n",
       "      <th>indigo</th>\n",
       "      <th>violet</th>\n",
       "    </tr>\n",
       "  </thead>\n",
       "  <tbody>\n",
       "    <tr>\n",
       "      <th>1</th>\n",
       "      <td>0.051090</td>\n",
       "      <td>0.636155</td>\n",
       "      <td>-0.736145</td>\n",
       "      <td>-0.839959</td>\n",
       "      <td>-1.297012</td>\n",
       "      <td>-1.297012</td>\n",
       "      <td>-2.594023</td>\n",
       "    </tr>\n",
       "    <tr>\n",
       "      <th>2</th>\n",
       "      <td>-1.250504</td>\n",
       "      <td>-0.073166</td>\n",
       "      <td>-0.011279</td>\n",
       "      <td>-1.089314</td>\n",
       "      <td>-0.115498</td>\n",
       "      <td>-0.115498</td>\n",
       "      <td>-0.230996</td>\n",
       "    </tr>\n",
       "    <tr>\n",
       "      <th>3</th>\n",
       "      <td>-1.250504</td>\n",
       "      <td>-0.073166</td>\n",
       "      <td>-0.011279</td>\n",
       "      <td>-1.089314</td>\n",
       "      <td>-0.115498</td>\n",
       "      <td>-0.115498</td>\n",
       "      <td>-0.230996</td>\n",
       "    </tr>\n",
       "    <tr>\n",
       "      <th>4</th>\n",
       "      <td>-2.726784</td>\n",
       "      <td>-0.563387</td>\n",
       "      <td>-0.200577</td>\n",
       "      <td>-1.518488</td>\n",
       "      <td>1.083401</td>\n",
       "      <td>1.083401</td>\n",
       "      <td>2.166802</td>\n",
       "    </tr>\n",
       "  </tbody>\n",
       "</table>\n",
       "</div>"
      ],
      "text/plain": [
       "        red    orange    yellow     green      blue    indigo    violet\n",
       "1  0.051090  0.636155 -0.736145 -0.839959 -1.297012 -1.297012 -2.594023\n",
       "2 -1.250504 -0.073166 -0.011279 -1.089314 -0.115498 -0.115498 -0.230996\n",
       "3 -1.250504 -0.073166 -0.011279 -1.089314 -0.115498 -0.115498 -0.230996\n",
       "4 -2.726784 -0.563387 -0.200577 -1.518488  1.083401  1.083401  2.166802"
      ]
     },
     "execution_count": 21,
     "metadata": {},
     "output_type": "execute_result"
    }
   ],
   "source": [
    "my_df"
   ]
  },
  {
   "cell_type": "code",
   "execution_count": 22,
   "id": "4fcf063d",
   "metadata": {},
   "outputs": [],
   "source": [
    "my_df.drop(3, inplace=True)"
   ]
  },
  {
   "cell_type": "code",
   "execution_count": 23,
   "id": "c0315f39",
   "metadata": {},
   "outputs": [
    {
     "data": {
      "text/html": [
       "<div>\n",
       "<style scoped>\n",
       "    .dataframe tbody tr th:only-of-type {\n",
       "        vertical-align: middle;\n",
       "    }\n",
       "\n",
       "    .dataframe tbody tr th {\n",
       "        vertical-align: top;\n",
       "    }\n",
       "\n",
       "    .dataframe thead th {\n",
       "        text-align: right;\n",
       "    }\n",
       "</style>\n",
       "<table border=\"1\" class=\"dataframe\">\n",
       "  <thead>\n",
       "    <tr style=\"text-align: right;\">\n",
       "      <th></th>\n",
       "      <th>red</th>\n",
       "      <th>orange</th>\n",
       "      <th>yellow</th>\n",
       "      <th>green</th>\n",
       "      <th>blue</th>\n",
       "      <th>indigo</th>\n",
       "      <th>violet</th>\n",
       "    </tr>\n",
       "  </thead>\n",
       "  <tbody>\n",
       "    <tr>\n",
       "      <th>1</th>\n",
       "      <td>0.051090</td>\n",
       "      <td>0.636155</td>\n",
       "      <td>-0.736145</td>\n",
       "      <td>-0.839959</td>\n",
       "      <td>-1.297012</td>\n",
       "      <td>-1.297012</td>\n",
       "      <td>-2.594023</td>\n",
       "    </tr>\n",
       "    <tr>\n",
       "      <th>2</th>\n",
       "      <td>-1.250504</td>\n",
       "      <td>-0.073166</td>\n",
       "      <td>-0.011279</td>\n",
       "      <td>-1.089314</td>\n",
       "      <td>-0.115498</td>\n",
       "      <td>-0.115498</td>\n",
       "      <td>-0.230996</td>\n",
       "    </tr>\n",
       "    <tr>\n",
       "      <th>4</th>\n",
       "      <td>-2.726784</td>\n",
       "      <td>-0.563387</td>\n",
       "      <td>-0.200577</td>\n",
       "      <td>-1.518488</td>\n",
       "      <td>1.083401</td>\n",
       "      <td>1.083401</td>\n",
       "      <td>2.166802</td>\n",
       "    </tr>\n",
       "  </tbody>\n",
       "</table>\n",
       "</div>"
      ],
      "text/plain": [
       "        red    orange    yellow     green      blue    indigo    violet\n",
       "1  0.051090  0.636155 -0.736145 -0.839959 -1.297012 -1.297012 -2.594023\n",
       "2 -1.250504 -0.073166 -0.011279 -1.089314 -0.115498 -0.115498 -0.230996\n",
       "4 -2.726784 -0.563387 -0.200577 -1.518488  1.083401  1.083401  2.166802"
      ]
     },
     "execution_count": 23,
     "metadata": {},
     "output_type": "execute_result"
    }
   ],
   "source": [
    "my_df"
   ]
  },
  {
   "cell_type": "code",
   "execution_count": 24,
   "id": "b2598b4b",
   "metadata": {},
   "outputs": [
    {
     "data": {
      "text/html": [
       "<div>\n",
       "<style scoped>\n",
       "    .dataframe tbody tr th:only-of-type {\n",
       "        vertical-align: middle;\n",
       "    }\n",
       "\n",
       "    .dataframe tbody tr th {\n",
       "        vertical-align: top;\n",
       "    }\n",
       "\n",
       "    .dataframe thead th {\n",
       "        text-align: right;\n",
       "    }\n",
       "</style>\n",
       "<table border=\"1\" class=\"dataframe\">\n",
       "  <thead>\n",
       "    <tr style=\"text-align: right;\">\n",
       "      <th></th>\n",
       "      <th>red</th>\n",
       "      <th>orange</th>\n",
       "      <th>yellow</th>\n",
       "      <th>green</th>\n",
       "      <th>blue</th>\n",
       "      <th>violet</th>\n",
       "    </tr>\n",
       "  </thead>\n",
       "  <tbody>\n",
       "    <tr>\n",
       "      <th>1</th>\n",
       "      <td>0.051090</td>\n",
       "      <td>0.636155</td>\n",
       "      <td>-0.736145</td>\n",
       "      <td>-0.839959</td>\n",
       "      <td>-1.297012</td>\n",
       "      <td>-2.594023</td>\n",
       "    </tr>\n",
       "    <tr>\n",
       "      <th>2</th>\n",
       "      <td>-1.250504</td>\n",
       "      <td>-0.073166</td>\n",
       "      <td>-0.011279</td>\n",
       "      <td>-1.089314</td>\n",
       "      <td>-0.115498</td>\n",
       "      <td>-0.230996</td>\n",
       "    </tr>\n",
       "    <tr>\n",
       "      <th>4</th>\n",
       "      <td>-2.726784</td>\n",
       "      <td>-0.563387</td>\n",
       "      <td>-0.200577</td>\n",
       "      <td>-1.518488</td>\n",
       "      <td>1.083401</td>\n",
       "      <td>2.166802</td>\n",
       "    </tr>\n",
       "  </tbody>\n",
       "</table>\n",
       "</div>"
      ],
      "text/plain": [
       "        red    orange    yellow     green      blue    violet\n",
       "1  0.051090  0.636155 -0.736145 -0.839959 -1.297012 -2.594023\n",
       "2 -1.250504 -0.073166 -0.011279 -1.089314 -0.115498 -0.230996\n",
       "4 -2.726784 -0.563387 -0.200577 -1.518488  1.083401  2.166802"
      ]
     },
     "execution_count": 24,
     "metadata": {},
     "output_type": "execute_result"
    }
   ],
   "source": [
    "my_df.drop('indigo', axis=1)"
   ]
  },
  {
   "cell_type": "code",
   "execution_count": 25,
   "id": "c8d6b458",
   "metadata": {},
   "outputs": [
    {
     "data": {
      "text/html": [
       "<div>\n",
       "<style scoped>\n",
       "    .dataframe tbody tr th:only-of-type {\n",
       "        vertical-align: middle;\n",
       "    }\n",
       "\n",
       "    .dataframe tbody tr th {\n",
       "        vertical-align: top;\n",
       "    }\n",
       "\n",
       "    .dataframe thead th {\n",
       "        text-align: right;\n",
       "    }\n",
       "</style>\n",
       "<table border=\"1\" class=\"dataframe\">\n",
       "  <thead>\n",
       "    <tr style=\"text-align: right;\">\n",
       "      <th></th>\n",
       "      <th>red</th>\n",
       "      <th>orange</th>\n",
       "      <th>yellow</th>\n",
       "      <th>green</th>\n",
       "      <th>blue</th>\n",
       "      <th>indigo</th>\n",
       "      <th>violet</th>\n",
       "    </tr>\n",
       "  </thead>\n",
       "  <tbody>\n",
       "    <tr>\n",
       "      <th>1</th>\n",
       "      <td>0.051090</td>\n",
       "      <td>0.636155</td>\n",
       "      <td>-0.736145</td>\n",
       "      <td>-0.839959</td>\n",
       "      <td>-1.297012</td>\n",
       "      <td>-1.297012</td>\n",
       "      <td>-2.594023</td>\n",
       "    </tr>\n",
       "    <tr>\n",
       "      <th>2</th>\n",
       "      <td>-1.250504</td>\n",
       "      <td>-0.073166</td>\n",
       "      <td>-0.011279</td>\n",
       "      <td>-1.089314</td>\n",
       "      <td>-0.115498</td>\n",
       "      <td>-0.115498</td>\n",
       "      <td>-0.230996</td>\n",
       "    </tr>\n",
       "    <tr>\n",
       "      <th>4</th>\n",
       "      <td>-2.726784</td>\n",
       "      <td>-0.563387</td>\n",
       "      <td>-0.200577</td>\n",
       "      <td>-1.518488</td>\n",
       "      <td>1.083401</td>\n",
       "      <td>1.083401</td>\n",
       "      <td>2.166802</td>\n",
       "    </tr>\n",
       "  </tbody>\n",
       "</table>\n",
       "</div>"
      ],
      "text/plain": [
       "        red    orange    yellow     green      blue    indigo    violet\n",
       "1  0.051090  0.636155 -0.736145 -0.839959 -1.297012 -1.297012 -2.594023\n",
       "2 -1.250504 -0.073166 -0.011279 -1.089314 -0.115498 -0.115498 -0.230996\n",
       "4 -2.726784 -0.563387 -0.200577 -1.518488  1.083401  1.083401  2.166802"
      ]
     },
     "execution_count": 25,
     "metadata": {},
     "output_type": "execute_result"
    }
   ],
   "source": [
    "my_df"
   ]
  },
  {
   "cell_type": "code",
   "execution_count": 26,
   "id": "f4866a8e",
   "metadata": {},
   "outputs": [],
   "source": [
    "my_df.drop('indigo', axis=1, inplace=True)"
   ]
  },
  {
   "cell_type": "code",
   "execution_count": 27,
   "id": "dfeee69d",
   "metadata": {},
   "outputs": [
    {
     "data": {
      "text/html": [
       "<div>\n",
       "<style scoped>\n",
       "    .dataframe tbody tr th:only-of-type {\n",
       "        vertical-align: middle;\n",
       "    }\n",
       "\n",
       "    .dataframe tbody tr th {\n",
       "        vertical-align: top;\n",
       "    }\n",
       "\n",
       "    .dataframe thead th {\n",
       "        text-align: right;\n",
       "    }\n",
       "</style>\n",
       "<table border=\"1\" class=\"dataframe\">\n",
       "  <thead>\n",
       "    <tr style=\"text-align: right;\">\n",
       "      <th></th>\n",
       "      <th>red</th>\n",
       "      <th>orange</th>\n",
       "      <th>yellow</th>\n",
       "      <th>green</th>\n",
       "      <th>blue</th>\n",
       "      <th>violet</th>\n",
       "    </tr>\n",
       "  </thead>\n",
       "  <tbody>\n",
       "    <tr>\n",
       "      <th>1</th>\n",
       "      <td>0.051090</td>\n",
       "      <td>0.636155</td>\n",
       "      <td>-0.736145</td>\n",
       "      <td>-0.839959</td>\n",
       "      <td>-1.297012</td>\n",
       "      <td>-2.594023</td>\n",
       "    </tr>\n",
       "    <tr>\n",
       "      <th>2</th>\n",
       "      <td>-1.250504</td>\n",
       "      <td>-0.073166</td>\n",
       "      <td>-0.011279</td>\n",
       "      <td>-1.089314</td>\n",
       "      <td>-0.115498</td>\n",
       "      <td>-0.230996</td>\n",
       "    </tr>\n",
       "    <tr>\n",
       "      <th>4</th>\n",
       "      <td>-2.726784</td>\n",
       "      <td>-0.563387</td>\n",
       "      <td>-0.200577</td>\n",
       "      <td>-1.518488</td>\n",
       "      <td>1.083401</td>\n",
       "      <td>2.166802</td>\n",
       "    </tr>\n",
       "  </tbody>\n",
       "</table>\n",
       "</div>"
      ],
      "text/plain": [
       "        red    orange    yellow     green      blue    violet\n",
       "1  0.051090  0.636155 -0.736145 -0.839959 -1.297012 -2.594023\n",
       "2 -1.250504 -0.073166 -0.011279 -1.089314 -0.115498 -0.230996\n",
       "4 -2.726784 -0.563387 -0.200577 -1.518488  1.083401  2.166802"
      ]
     },
     "execution_count": 27,
     "metadata": {},
     "output_type": "execute_result"
    }
   ],
   "source": [
    "my_df"
   ]
  },
  {
   "cell_type": "code",
   "execution_count": 28,
   "id": "eb5ef9a8",
   "metadata": {},
   "outputs": [
    {
     "data": {
      "text/plain": [
       "(3, 6)"
      ]
     },
     "execution_count": 28,
     "metadata": {},
     "output_type": "execute_result"
    }
   ],
   "source": [
    "my_df.shape"
   ]
  },
  {
   "cell_type": "code",
   "execution_count": null,
   "id": "4ff75182",
   "metadata": {},
   "outputs": [],
   "source": []
  }
 ],
 "metadata": {
  "kernelspec": {
   "display_name": "Python 3 (ipykernel)",
   "language": "python",
   "name": "python3"
  },
  "language_info": {
   "codemirror_mode": {
    "name": "ipython",
    "version": 3
   },
   "file_extension": ".py",
   "mimetype": "text/x-python",
   "name": "python",
   "nbconvert_exporter": "python",
   "pygments_lexer": "ipython3",
   "version": "3.8.7"
  }
 },
 "nbformat": 4,
 "nbformat_minor": 5
}
